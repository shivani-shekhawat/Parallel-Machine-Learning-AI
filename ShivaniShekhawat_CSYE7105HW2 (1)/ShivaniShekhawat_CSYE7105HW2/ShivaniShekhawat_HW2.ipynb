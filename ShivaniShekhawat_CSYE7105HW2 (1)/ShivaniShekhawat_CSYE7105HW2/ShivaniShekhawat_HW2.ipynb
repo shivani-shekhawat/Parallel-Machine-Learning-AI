{
 "cells": [
  {
   "cell_type": "markdown",
   "id": "110ef7c0-751e-4125-92da-22a44d07c307",
   "metadata": {},
   "source": [
    "\n",
    "##  <span style=\"color:black;font-family: Times New Roman\"><u>CSYE7105 HW2</u></span> \n",
    "\n",
    "### Author : Shivani Shekhawat \n",
    "### NUID : 002656554"
   ]
  },
  {
   "cell_type": "markdown",
   "id": "9b05b08e-2abb-4731-9f84-3828552914ed",
   "metadata": {},
   "source": [
    "## <u>Part 1</u>"
   ]
  },
  {
   "cell_type": "markdown",
   "id": "94f3df09-51e9-4d16-8d7d-bc00c9429a7f",
   "metadata": {},
   "source": [
    "### 1. Please use two methods of multiprocessing.Pool: apply(), map() (or startmap) to implement the row wise common items in list_a and list_b; and print the result."
   ]
  },
  {
   "cell_type": "markdown",
   "id": "beb3dce5-6d3b-4501-bafa-c027200c7439",
   "metadata": {},
   "source": [
    "apply() and starmap() are two methods of the multiprocessing.Pool object in Python that can be used to execute functions in parallel.\n",
    "- apply() applies a function to a single argument, while starmap() applies a function to multiple arguments passed as tuples. \n",
    "- starmap() is useful when the function takes multiple arguments, and the arguments are stored in a list of tuples."
   ]
  },
  {
   "cell_type": "code",
   "execution_count": 18,
   "id": "2b0e7d2d-dbfc-47ba-b7c6-865b643a34e3",
   "metadata": {},
   "outputs": [
    {
     "name": "stdout",
     "output_type": "stream",
     "text": [
      "[[2, 3], [6], [11, 12], [21]]\n",
      "[[2, 3], [6], [11, 12], [21]]\n"
     ]
    }
   ],
   "source": [
    "from multiprocessing import Pool\n",
    "\n",
    "# Define the lists\n",
    "list_a = [[1, 2, 3], [5, 6, 7, 8], [10, 11, 12], [20, 21]]\n",
    "list_b = [[2, 3, 4, 5], [6, 9, 10], [11, 12, 13, 14], [21, 24, 25]]\n",
    "\n",
    "# Define a function to find common items in two lists\n",
    "def find_common_items(a, b):\n",
    "    return list(set(a) & set(b))\n",
    "\n",
    "# Create a Pool object\n",
    "pool = Pool()\n",
    "\n",
    "# Use apply() to find common items\n",
    "result_apply = [pool.apply(find_common_items, args=(a, b)) for a, b in zip(list_a, list_b)]\n",
    "print(result_apply)\n",
    "\n",
    "# Use map() to find common items\n",
    "result_map = pool.starmap(find_common_items, zip(list_a, list_b))\n",
    "print(result_map)\n",
    "\n",
    "pool.close()"
   ]
  },
  {
   "cell_type": "markdown",
   "id": "5b4fdfe8-9117-4ee5-9d86-f23e241c185d",
   "metadata": {},
   "source": [
    "### 2. Please use two methods of multiprocessing.Pool: apply(), map() (or startmap) to normalize each row of 2d array (list) list_c to vary between 0 and 1, and print the result.  "
   ]
  },
  {
   "cell_type": "markdown",
   "id": "edbc27a3-2e2c-4dfb-9aed-f4707b14e660",
   "metadata": {},
   "source": [
    "Below code creates a normalize() function that takes a row of list_c as input and returns the normalized row. The apply() method of the multiprocessing.Pool object is used to apply the normalize() function to each row in parallel."
   ]
  },
  {
   "cell_type": "code",
   "execution_count": 19,
   "id": "b2f7bf6f-f3d9-4174-b7f5-285b97209dce",
   "metadata": {},
   "outputs": [
    {
     "name": "stdout",
     "output_type": "stream",
     "text": [
      "[[0.0, 0.3333333333333333, 0.6666666666666666, 1.0], [0.0, 0.5, 0.6666666666666666, 1.0], [0.0, 0.3333333333333333, 0.6666666666666666, 1.0], [0.0, 0.6, 0.8, 1.0]]\n",
      "[[0.0, 0.3333333333333333, 0.6666666666666666, 1.0], [0.0, 0.5, 0.6666666666666666, 1.0], [0.0, 0.3333333333333333, 0.6666666666666666, 1.0], [0.0, 0.6, 0.8, 1.0]]\n"
     ]
    }
   ],
   "source": [
    "import numpy as np\n",
    "\n",
    "# Define the list\n",
    "list_c = [[2, 3, 4, 5], [6, 9, 10, 12], [11, 12, 13, 14], [21, 24, 25, 26]]\n",
    "\n",
    "# Define a function to normalize a list\n",
    "def normalize(lst):\n",
    "    min_val = min(lst)\n",
    "    max_val = max(lst)\n",
    "    return [(i - min_val) / (max_val - min_val) for i in lst]\n",
    "\n",
    "# Create a Pool object\n",
    "pool = Pool()\n",
    "\n",
    "# Use apply() to normalize the list\n",
    "result_apply = [pool.apply(normalize, args=(lst,)) for lst in list_c]\n",
    "print(result_apply)\n",
    "\n",
    "# Use map() to normalize the list\n",
    "result_map = pool.map(normalize, list_c)\n",
    "print(result_map)\n",
    "\n",
    "pool.close()"
   ]
  },
  {
   "cell_type": "markdown",
   "id": "630508c4-d6a7-4eff-9ff3-4fec40893e7c",
   "metadata": {},
   "source": [
    "## <u>Part 2</u>"
   ]
  },
  {
   "cell_type": "markdown",
   "id": "42278c67-7dde-45ee-b4b4-db71a9dff0bc",
   "metadata": {},
   "source": [
    "- ### Create a DataFrame. The required values are arbitrary integer numbers in [1,10), the shape of this df is (20000, 200)."
   ]
  },
  {
   "cell_type": "markdown",
   "id": "703d349e-8d79-4049-8ca2-9848bec48634",
   "metadata": {},
   "source": [
    "- To create a DataFrame with arbitrary integer numbers in the range [1, 10) and shape (20000, 200) using Pandas, we can use the numpy.random.randint() function to generate random integers and then create a DataFrame from the resulting NumPy array.\n",
    "- The pd.DataFrame() function is then used to create a DataFrame from the NumPy array. The resulting DataFrame is printed to the console."
   ]
  },
  {
   "cell_type": "code",
   "execution_count": 20,
   "id": "7fcd711f-40e2-49d8-80a7-b23b904a6ba3",
   "metadata": {},
   "outputs": [
    {
     "data": {
      "text/html": [
       "<div>\n",
       "<style scoped>\n",
       "    .dataframe tbody tr th:only-of-type {\n",
       "        vertical-align: middle;\n",
       "    }\n",
       "\n",
       "    .dataframe tbody tr th {\n",
       "        vertical-align: top;\n",
       "    }\n",
       "\n",
       "    .dataframe thead th {\n",
       "        text-align: right;\n",
       "    }\n",
       "</style>\n",
       "<table border=\"1\" class=\"dataframe\">\n",
       "  <thead>\n",
       "    <tr style=\"text-align: right;\">\n",
       "      <th></th>\n",
       "      <th>0</th>\n",
       "      <th>1</th>\n",
       "      <th>2</th>\n",
       "      <th>3</th>\n",
       "      <th>4</th>\n",
       "      <th>5</th>\n",
       "      <th>6</th>\n",
       "      <th>7</th>\n",
       "      <th>8</th>\n",
       "      <th>9</th>\n",
       "      <th>...</th>\n",
       "      <th>190</th>\n",
       "      <th>191</th>\n",
       "      <th>192</th>\n",
       "      <th>193</th>\n",
       "      <th>194</th>\n",
       "      <th>195</th>\n",
       "      <th>196</th>\n",
       "      <th>197</th>\n",
       "      <th>198</th>\n",
       "      <th>199</th>\n",
       "    </tr>\n",
       "  </thead>\n",
       "  <tbody>\n",
       "    <tr>\n",
       "      <th>0</th>\n",
       "      <td>1</td>\n",
       "      <td>1</td>\n",
       "      <td>7</td>\n",
       "      <td>9</td>\n",
       "      <td>7</td>\n",
       "      <td>7</td>\n",
       "      <td>3</td>\n",
       "      <td>3</td>\n",
       "      <td>3</td>\n",
       "      <td>2</td>\n",
       "      <td>...</td>\n",
       "      <td>3</td>\n",
       "      <td>5</td>\n",
       "      <td>3</td>\n",
       "      <td>3</td>\n",
       "      <td>6</td>\n",
       "      <td>2</td>\n",
       "      <td>4</td>\n",
       "      <td>7</td>\n",
       "      <td>2</td>\n",
       "      <td>6</td>\n",
       "    </tr>\n",
       "    <tr>\n",
       "      <th>1</th>\n",
       "      <td>9</td>\n",
       "      <td>6</td>\n",
       "      <td>7</td>\n",
       "      <td>5</td>\n",
       "      <td>3</td>\n",
       "      <td>7</td>\n",
       "      <td>9</td>\n",
       "      <td>5</td>\n",
       "      <td>9</td>\n",
       "      <td>9</td>\n",
       "      <td>...</td>\n",
       "      <td>2</td>\n",
       "      <td>9</td>\n",
       "      <td>2</td>\n",
       "      <td>3</td>\n",
       "      <td>3</td>\n",
       "      <td>3</td>\n",
       "      <td>3</td>\n",
       "      <td>2</td>\n",
       "      <td>7</td>\n",
       "      <td>8</td>\n",
       "    </tr>\n",
       "    <tr>\n",
       "      <th>2</th>\n",
       "      <td>4</td>\n",
       "      <td>2</td>\n",
       "      <td>3</td>\n",
       "      <td>1</td>\n",
       "      <td>6</td>\n",
       "      <td>5</td>\n",
       "      <td>8</td>\n",
       "      <td>5</td>\n",
       "      <td>7</td>\n",
       "      <td>1</td>\n",
       "      <td>...</td>\n",
       "      <td>5</td>\n",
       "      <td>6</td>\n",
       "      <td>5</td>\n",
       "      <td>2</td>\n",
       "      <td>2</td>\n",
       "      <td>5</td>\n",
       "      <td>6</td>\n",
       "      <td>9</td>\n",
       "      <td>4</td>\n",
       "      <td>3</td>\n",
       "    </tr>\n",
       "    <tr>\n",
       "      <th>3</th>\n",
       "      <td>2</td>\n",
       "      <td>1</td>\n",
       "      <td>1</td>\n",
       "      <td>4</td>\n",
       "      <td>4</td>\n",
       "      <td>4</td>\n",
       "      <td>7</td>\n",
       "      <td>7</td>\n",
       "      <td>5</td>\n",
       "      <td>3</td>\n",
       "      <td>...</td>\n",
       "      <td>4</td>\n",
       "      <td>1</td>\n",
       "      <td>8</td>\n",
       "      <td>2</td>\n",
       "      <td>7</td>\n",
       "      <td>8</td>\n",
       "      <td>2</td>\n",
       "      <td>4</td>\n",
       "      <td>3</td>\n",
       "      <td>4</td>\n",
       "    </tr>\n",
       "    <tr>\n",
       "      <th>4</th>\n",
       "      <td>5</td>\n",
       "      <td>1</td>\n",
       "      <td>6</td>\n",
       "      <td>8</td>\n",
       "      <td>2</td>\n",
       "      <td>5</td>\n",
       "      <td>6</td>\n",
       "      <td>9</td>\n",
       "      <td>3</td>\n",
       "      <td>1</td>\n",
       "      <td>...</td>\n",
       "      <td>4</td>\n",
       "      <td>6</td>\n",
       "      <td>2</td>\n",
       "      <td>1</td>\n",
       "      <td>9</td>\n",
       "      <td>6</td>\n",
       "      <td>7</td>\n",
       "      <td>3</td>\n",
       "      <td>7</td>\n",
       "      <td>4</td>\n",
       "    </tr>\n",
       "    <tr>\n",
       "      <th>5</th>\n",
       "      <td>7</td>\n",
       "      <td>7</td>\n",
       "      <td>4</td>\n",
       "      <td>8</td>\n",
       "      <td>6</td>\n",
       "      <td>8</td>\n",
       "      <td>1</td>\n",
       "      <td>7</td>\n",
       "      <td>7</td>\n",
       "      <td>8</td>\n",
       "      <td>...</td>\n",
       "      <td>4</td>\n",
       "      <td>3</td>\n",
       "      <td>5</td>\n",
       "      <td>9</td>\n",
       "      <td>8</td>\n",
       "      <td>3</td>\n",
       "      <td>8</td>\n",
       "      <td>3</td>\n",
       "      <td>8</td>\n",
       "      <td>1</td>\n",
       "    </tr>\n",
       "    <tr>\n",
       "      <th>6</th>\n",
       "      <td>5</td>\n",
       "      <td>4</td>\n",
       "      <td>1</td>\n",
       "      <td>3</td>\n",
       "      <td>3</td>\n",
       "      <td>4</td>\n",
       "      <td>5</td>\n",
       "      <td>2</td>\n",
       "      <td>3</td>\n",
       "      <td>2</td>\n",
       "      <td>...</td>\n",
       "      <td>1</td>\n",
       "      <td>7</td>\n",
       "      <td>8</td>\n",
       "      <td>3</td>\n",
       "      <td>8</td>\n",
       "      <td>6</td>\n",
       "      <td>8</td>\n",
       "      <td>4</td>\n",
       "      <td>1</td>\n",
       "      <td>2</td>\n",
       "    </tr>\n",
       "    <tr>\n",
       "      <th>7</th>\n",
       "      <td>5</td>\n",
       "      <td>5</td>\n",
       "      <td>9</td>\n",
       "      <td>9</td>\n",
       "      <td>8</td>\n",
       "      <td>6</td>\n",
       "      <td>6</td>\n",
       "      <td>1</td>\n",
       "      <td>5</td>\n",
       "      <td>5</td>\n",
       "      <td>...</td>\n",
       "      <td>1</td>\n",
       "      <td>7</td>\n",
       "      <td>1</td>\n",
       "      <td>4</td>\n",
       "      <td>4</td>\n",
       "      <td>5</td>\n",
       "      <td>1</td>\n",
       "      <td>5</td>\n",
       "      <td>3</td>\n",
       "      <td>7</td>\n",
       "    </tr>\n",
       "    <tr>\n",
       "      <th>8</th>\n",
       "      <td>7</td>\n",
       "      <td>6</td>\n",
       "      <td>1</td>\n",
       "      <td>1</td>\n",
       "      <td>1</td>\n",
       "      <td>9</td>\n",
       "      <td>9</td>\n",
       "      <td>8</td>\n",
       "      <td>1</td>\n",
       "      <td>6</td>\n",
       "      <td>...</td>\n",
       "      <td>1</td>\n",
       "      <td>5</td>\n",
       "      <td>7</td>\n",
       "      <td>5</td>\n",
       "      <td>4</td>\n",
       "      <td>8</td>\n",
       "      <td>2</td>\n",
       "      <td>9</td>\n",
       "      <td>3</td>\n",
       "      <td>4</td>\n",
       "    </tr>\n",
       "    <tr>\n",
       "      <th>9</th>\n",
       "      <td>8</td>\n",
       "      <td>1</td>\n",
       "      <td>4</td>\n",
       "      <td>7</td>\n",
       "      <td>2</td>\n",
       "      <td>9</td>\n",
       "      <td>7</td>\n",
       "      <td>2</td>\n",
       "      <td>3</td>\n",
       "      <td>9</td>\n",
       "      <td>...</td>\n",
       "      <td>8</td>\n",
       "      <td>8</td>\n",
       "      <td>9</td>\n",
       "      <td>6</td>\n",
       "      <td>5</td>\n",
       "      <td>2</td>\n",
       "      <td>7</td>\n",
       "      <td>4</td>\n",
       "      <td>9</td>\n",
       "      <td>2</td>\n",
       "    </tr>\n",
       "  </tbody>\n",
       "</table>\n",
       "<p>10 rows × 200 columns</p>\n",
       "</div>"
      ],
      "text/plain": [
       "   0    1    2    3    4    5    6    7    8    9    ...  190  191  192  193  \\\n",
       "0    1    1    7    9    7    7    3    3    3    2  ...    3    5    3    3   \n",
       "1    9    6    7    5    3    7    9    5    9    9  ...    2    9    2    3   \n",
       "2    4    2    3    1    6    5    8    5    7    1  ...    5    6    5    2   \n",
       "3    2    1    1    4    4    4    7    7    5    3  ...    4    1    8    2   \n",
       "4    5    1    6    8    2    5    6    9    3    1  ...    4    6    2    1   \n",
       "5    7    7    4    8    6    8    1    7    7    8  ...    4    3    5    9   \n",
       "6    5    4    1    3    3    4    5    2    3    2  ...    1    7    8    3   \n",
       "7    5    5    9    9    8    6    6    1    5    5  ...    1    7    1    4   \n",
       "8    7    6    1    1    1    9    9    8    1    6  ...    1    5    7    5   \n",
       "9    8    1    4    7    2    9    7    2    3    9  ...    8    8    9    6   \n",
       "\n",
       "   194  195  196  197  198  199  \n",
       "0    6    2    4    7    2    6  \n",
       "1    3    3    3    2    7    8  \n",
       "2    2    5    6    9    4    3  \n",
       "3    7    8    2    4    3    4  \n",
       "4    9    6    7    3    7    4  \n",
       "5    8    3    8    3    8    1  \n",
       "6    8    6    8    4    1    2  \n",
       "7    4    5    1    5    3    7  \n",
       "8    4    8    2    9    3    4  \n",
       "9    5    2    7    4    9    2  \n",
       "\n",
       "[10 rows x 200 columns]"
      ]
     },
     "execution_count": 20,
     "metadata": {},
     "output_type": "execute_result"
    }
   ],
   "source": [
    "import pandas as pd\n",
    "import multiprocessing as mp\n",
    "\n",
    "df = pd.DataFrame(np.random.randint(1, 10, (20000, 200)))\n",
    "df.head(10)"
   ]
  },
  {
   "cell_type": "markdown",
   "id": "daafabfb-fd4f-4e48-a4e8-6fa542db5470",
   "metadata": {},
   "source": [
    "- ### Define a function to calculate this: for each row of a dataframe, square every values, then add them all up, and then take the square root."
   ]
  },
  {
   "cell_type": "markdown",
   "id": "6c67bb34-0a1d-46aa-8924-959b38aaf3cd",
   "metadata": {},
   "source": [
    "- ### Parallelize the function with two methods of multiprocessing.Pool."
   ]
  },
  {
   "cell_type": "markdown",
   "id": "3a2768f3-5185-4058-a7ee-0a784c33ee84",
   "metadata": {},
   "source": [
    "   To define a function that calculates the square root of the sum of the squares of each row of a DataFrame, we can use the apply() method of the DataFrame to apply a function to each row. The function   will square each value in the row, sum the squares, and then take the square root of the sum."
   ]
  },
  {
   "cell_type": "code",
   "execution_count": 22,
   "id": "217be1c5-da2c-4942-94f0-d181a58fdf3d",
   "metadata": {},
   "outputs": [],
   "source": [
    "import time\n",
    "\n",
    "# Create a DataFrame\n",
    "df = pd.DataFrame(np.random.randint(1, 10, (20000, 200)))\n",
    "\n",
    "# Define the function\n",
    "def calculate(row):\n",
    "    return np.sqrt(np.sum(np.square(row)))\n",
    "\n",
    "# Parallelize the function using apply()\n",
    "def parallel_apply(df):\n",
    "    with mp.Pool() as pool:\n",
    "        results = [pool.apply(calculate, args=(row,)) for row in df.values]\n",
    "    return results\n",
    "\n",
    "# Parallelize the function using map()\n",
    "def parallel_map(df):\n",
    "    with mp.Pool() as pool:\n",
    "        results = pool.map(calculate, df.values)\n",
    "    return results\n"
   ]
  },
  {
   "cell_type": "markdown",
   "id": "ed23b28a-608b-4393-a4fe-88b97d598579",
   "metadata": {},
   "source": [
    "- ### Set a timer to calculate the elapsed time for the parallelized code block when the number of CPUs is 1, 2, 4, and 8, respectively."
   ]
  },
  {
   "cell_type": "markdown",
   "id": "5da5fb34-502a-4b21-90c2-5242cdadf237",
   "metadata": {},
   "source": [
    "To calculate the elapsed time for the parallelized code block when the number of CPUs is 1, 2, 4, and 8, respectively, we can use the time module in Python to measure the execution time of the code block. We can also use the multiprocessing.Pool object to parallelize the code block with different numbers of worker processes."
   ]
  },
  {
   "cell_type": "markdown",
   "id": "f1540601-f483-446f-bf5f-b95297b8b3b1",
   "metadata": {},
   "source": [
    "This code creates a DataFrame with random integer values and then loops over a list of CPU counts. For each CPU count, the code creates a multiprocessing.Pool object with the specified number of worker processes and then uses the map() method to apply the row_sqrt_sum() function to each row of the DataFrame in parallel. The time.time() function is used to measure the start and end times of the code block, and the elapsed time is calculated by subtracting the start time from the end time. The elapsed time is then printed to the console."
   ]
  },
  {
   "cell_type": "code",
   "execution_count": 23,
   "id": "ed863d9e-9241-4360-9ee9-2fd524a5b48f",
   "metadata": {},
   "outputs": [
    {
     "name": "stdout",
     "output_type": "stream",
     "text": [
      "Number of CPUs: 1\n",
      "Elapsed time (apply): 9.45 seconds\n",
      "Elapsed time (map): 0.51 seconds\n",
      "\n",
      "Number of CPUs: 2\n",
      "Elapsed time (apply): 8.33 seconds\n",
      "Elapsed time (map): 0.51 seconds\n",
      "\n",
      "Number of CPUs: 4\n",
      "Elapsed time (apply): 8.71 seconds\n",
      "Elapsed time (map): 0.51 seconds\n",
      "\n",
      "Number of CPUs: 8\n",
      "Elapsed time (apply): 10.39 seconds\n",
      "Elapsed time (map): 0.49 seconds\n",
      "\n"
     ]
    }
   ],
   "source": [
    "# Measure the elapsed time for each method with different numbers of CPUs\n",
    "for num_cpus in [1, 2, 4, 8]:\n",
    "    mp.cpu_count = lambda: num_cpus\n",
    "    start_time = time.time()\n",
    "    results_apply = parallel_apply(df)\n",
    "    elapsed_time_apply = time.time() - start_time\n",
    "    if num_cpus == 1:\n",
    "        elapsed_time_apply_1 = elapsed_time_apply\n",
    "    elif num_cpus == 2:\n",
    "        elapsed_time_apply_2 = elapsed_time_apply\n",
    "    elif num_cpus == 4:\n",
    "        elapsed_time_apply_4 = elapsed_time_apply\n",
    "    elif num_cpus == 8:\n",
    "        elapsed_time_apply_8 = elapsed_time_apply\n",
    "\n",
    "    start_time = time.time()\n",
    "    results_map = parallel_map(df)\n",
    "    elapsed_time_map = time.time() - start_time\n",
    "    if num_cpus == 1:\n",
    "        elapsed_time_map_1 = elapsed_time_map\n",
    "    elif num_cpus == 2:\n",
    "        elapsed_time_map_2 = elapsed_time_map\n",
    "    elif num_cpus == 4:\n",
    "        elapsed_time_map_4 = elapsed_time_map\n",
    "    elif num_cpus == 8:\n",
    "        elapsed_time_map_8 = elapsed_time_map\n",
    "        \n",
    "    print(f\"Number of CPUs: {num_cpus}\")\n",
    "    print(f\"Elapsed time (apply): {elapsed_time_apply:.2f} seconds\")\n",
    "    print(f\"Elapsed time (map): {elapsed_time_map:.2f} seconds\\n\")"
   ]
  },
  {
   "cell_type": "markdown",
   "id": "f6955d73-3fa9-49a1-b234-662035cda85b",
   "metadata": {},
   "source": [
    "- ### Use matplotlib (or other Python tools) to plot the following graphs and save as image files:\n",
    "1. the elapsed time as the number of CPUs increases \n",
    "2. the speedup as the number of CPUs increases"
   ]
  },
  {
   "cell_type": "markdown",
   "id": "705675e8-69a1-429c-abab-f9dc6c2aab38",
   "metadata": {},
   "source": [
    "Below code defines two lists, elapsed_time_apply_list and elapsed_time_map_list, which contain the elapsed time for the apply() and map() methods, respectively, for different numbers of CPUs. The num_cpus_list list contains the number of CPUs used for each measurement"
   ]
  },
  {
   "cell_type": "markdown",
   "id": "aecd2e49-3a55-4108-af34-f6a75be79ace",
   "metadata": {},
   "source": [
    "Generally, the elapsed time decreases as the number of CPUs increases, due to the parallel processing. However, the rate of decrease might not be linear due to the overhead of managing multiple processes"
   ]
  },
  {
   "cell_type": "code",
   "execution_count": 24,
   "id": "5962bac6-55ca-42e4-bf26-6a26b8b7144e",
   "metadata": {},
   "outputs": [
    {
     "data": {
      "image/png": "[encoded data removed]",
      "text/plain": [
       "<Figure size 432x288 with 1 Axes>"
      ]
     },
     "metadata": {
      "needs_background": "light"
     },
     "output_type": "display_data"
    },
    {
     "data": {
      "image/png": "[encoded data removed]",
      "text/plain": [
       "<Figure size 432x288 with 1 Axes>"
      ]
     },
     "metadata": {
      "needs_background": "light"
     },
     "output_type": "display_data"
    }
   ],
   "source": [
    "import matplotlib.pyplot as plt\n",
    "\n",
    "# Define the data\n",
    "num_cpus_list = [1, 2, 4, 8]\n",
    "elapsed_time_apply_list = [elapsed_time_apply_1, elapsed_time_apply_2, elapsed_time_apply_4, elapsed_time_apply_8]\n",
    "elapsed_time_map_list = [elapsed_time_map_1, elapsed_time_map_2, elapsed_time_map_4, elapsed_time_map_8]\n",
    "\n",
    "# Plot the elapsed time as the number of CPUs increases\n",
    "plt.figure()\n",
    "plt.plot(num_cpus_list, elapsed_time_apply_list, label=\"apply()\")\n",
    "plt.plot(num_cpus_list, elapsed_time_map_list, label=\"map()\")\n",
    "plt.xlabel(\"Number of CPUs\")\n",
    "plt.ylabel(\"Elapsed Time (seconds)\")\n",
    "plt.title(\"Elapsed Time vs. Number of CPUs\")\n",
    "plt.legend()\n",
    "plt.savefig(\"elapsed_time_vs_num_cpus.png\")\n",
    "\n",
    "# Plot the speedup as the number of CPUs increases\n",
    "speedup_apply = [elapsed_time_apply_list[0] / t for t in elapsed_time_apply_list]\n",
    "speedup_map = [elapsed_time_map_list[0] / t for t in elapsed_time_map_list]\n",
    "\n",
    "plt.figure()\n",
    "plt.plot(num_cpus_list, speedup_apply, label=\"apply()\")\n",
    "plt.plot(num_cpus_list, speedup_map, label=\"map()\")\n",
    "plt.xlabel(\"Number of CPUs\")\n",
    "plt.ylabel(\"Speedup\")\n",
    "plt.title(\"Speedup vs. Number of CPUs\")\n",
    "plt.legend()\n",
    "plt.savefig(\"speedup_vs_num_cpus.png\")"
   ]
  },
  {
   "cell_type": "markdown",
   "id": "41bca5fe-815a-44e6-8e5c-57c9730143e2",
   "metadata": {},
   "source": [
    "In this bar graph, we can observe how the elapsed time changes with different \"chunks\" for the Dask array. The optimal chunk size depends on the specific problem and the available resources (e.g., memory and CPU). Smaller chunks may lead to higher overhead, while larger chunks may not fully utilize the available resources. "
   ]
  },
  {
   "cell_type": "markdown",
   "id": "9798ee75-a3b7-4383-92fe-8a9e38244424",
   "metadata": {},
   "source": [
    "## <u>Part 3</u>"
   ]
  },
  {
   "cell_type": "markdown",
   "id": "2de413b0-e18b-4be0-bc8a-bb2c3e11791e",
   "metadata": {},
   "source": [
    "Performance Comparison between NumPy Array and Dask Array\n",
    "    \n",
    "### 1. Create a NumPy array and calculate the mean of every row\n",
    "To create a NumPy array with random integer numbers in [1, 10) and shape (30000, 20000), and then calculate the mean of every row"
   ]
  },
  {
   "cell_type": "code",
   "execution_count": 31,
   "id": "c3d66c10-8e80-47e0-9e87-939abad0fa89",
   "metadata": {},
   "outputs": [
    {
     "name": "stdout",
     "output_type": "stream",
     "text": [
      "Elapsed time (NumPy): 0.67 seconds\n"
     ]
    }
   ],
   "source": [
    "import numpy as np\n",
    "import time\n",
    "\n",
    "np.random.seed(1)\n",
    "np_arr = np.random.randint(1, 10, (30000, 20000))\n",
    "\n",
    "start_time = time.time()\n",
    "np_mean = np.mean(np_arr, axis=1)\n",
    "elapsed_time_numpy = time.time() - start_time\n",
    "print(f\"Elapsed time (NumPy): {elapsed_time_numpy:.2f} seconds\")"
   ]
  },
  {
   "cell_type": "markdown",
   "id": "6f975559-48a0-4071-864c-e256abbf743c",
   "metadata": {},
   "source": [
    "### 2. Create a Dask array with the same data and set the \"chunks\" to (1000, 1000)\n",
    "To create a Dask array with the same data as the NumPy array and set the \"chunks\" to (1000, 1000), we can use the following code:"
   ]
  },
  {
   "cell_type": "code",
   "execution_count": 32,
   "id": "26a3ad66-80e3-4bba-98f7-d69be5696ce7",
   "metadata": {},
   "outputs": [
    {
     "data": {
      "text/html": [
       "<table>\n",
       "<tr>\n",
       "<td>\n",
       "<table>\n",
       "  <thead>\n",
       "    <tr><td> </td><th> Array </th><th> Chunk </th></tr>\n",
       "  </thead>\n",
       "  <tbody>\n",
       "    <tr><th> Bytes </th><td> 4.47 GiB </td> <td> 7.63 MiB </td></tr>\n",
       "    <tr><th> Shape </th><td> (30000, 20000) </td> <td> (1000, 1000) </td></tr>\n",
       "    <tr><th> Count </th><td> 600 Tasks </td><td> 600 Chunks </td></tr>\n",
       "    <tr><th> Type </th><td> int64 </td><td> numpy.ndarray </td></tr>\n",
       "  </tbody>\n",
       "</table>\n",
       "</td>\n",
       "<td>\n",
       "<svg width=\"130\" height=\"170\" style=\"stroke:rgb(0,0,0);stroke-width:1\" >\n",
       "\n",
       "  <!-- Horizontal lines -->\n",
       "  <line x1=\"0\" y1=\"0\" x2=\"80\" y2=\"0\" style=\"stroke-width:2\" />\n",
       "  <line x1=\"0\" y1=\"4\" x2=\"80\" y2=\"4\" />\n",
       "  <line x1=\"0\" y1=\"12\" x2=\"80\" y2=\"12\" />\n",
       "  <line x1=\"0\" y1=\"16\" x2=\"80\" y2=\"16\" />\n",
       "  <line x1=\"0\" y1=\"24\" x2=\"80\" y2=\"24\" />\n",
       "  <line x1=\"0\" y1=\"28\" x2=\"80\" y2=\"28\" />\n",
       "  <line x1=\"0\" y1=\"36\" x2=\"80\" y2=\"36\" />\n",
       "  <line x1=\"0\" y1=\"44\" x2=\"80\" y2=\"44\" />\n",
       "  <line x1=\"0\" y1=\"48\" x2=\"80\" y2=\"48\" />\n",
       "  <line x1=\"0\" y1=\"56\" x2=\"80\" y2=\"56\" />\n",
       "  <line x1=\"0\" y1=\"60\" x2=\"80\" y2=\"60\" />\n",
       "  <line x1=\"0\" y1=\"68\" x2=\"80\" y2=\"68\" />\n",
       "  <line x1=\"0\" y1=\"72\" x2=\"80\" y2=\"72\" />\n",
       "  <line x1=\"0\" y1=\"80\" x2=\"80\" y2=\"80\" />\n",
       "  <line x1=\"0\" y1=\"88\" x2=\"80\" y2=\"88\" />\n",
       "  <line x1=\"0\" y1=\"92\" x2=\"80\" y2=\"92\" />\n",
       "  <line x1=\"0\" y1=\"100\" x2=\"80\" y2=\"100\" />\n",
       "  <line x1=\"0\" y1=\"104\" x2=\"80\" y2=\"104\" />\n",
       "  <line x1=\"0\" y1=\"112\" x2=\"80\" y2=\"112\" />\n",
       "  <line x1=\"0\" y1=\"120\" x2=\"80\" y2=\"120\" style=\"stroke-width:2\" />\n",
       "\n",
       "  <!-- Vertical lines -->\n",
       "  <line x1=\"0\" y1=\"0\" x2=\"0\" y2=\"120\" style=\"stroke-width:2\" />\n",
       "  <line x1=\"4\" y1=\"0\" x2=\"4\" y2=\"120\" />\n",
       "  <line x1=\"8\" y1=\"0\" x2=\"8\" y2=\"120\" />\n",
       "  <line x1=\"12\" y1=\"0\" x2=\"12\" y2=\"120\" />\n",
       "  <line x1=\"16\" y1=\"0\" x2=\"16\" y2=\"120\" />\n",
       "  <line x1=\"20\" y1=\"0\" x2=\"20\" y2=\"120\" />\n",
       "  <line x1=\"24\" y1=\"0\" x2=\"24\" y2=\"120\" />\n",
       "  <line x1=\"28\" y1=\"0\" x2=\"28\" y2=\"120\" />\n",
       "  <line x1=\"32\" y1=\"0\" x2=\"32\" y2=\"120\" />\n",
       "  <line x1=\"36\" y1=\"0\" x2=\"36\" y2=\"120\" />\n",
       "  <line x1=\"40\" y1=\"0\" x2=\"40\" y2=\"120\" />\n",
       "  <line x1=\"44\" y1=\"0\" x2=\"44\" y2=\"120\" />\n",
       "  <line x1=\"48\" y1=\"0\" x2=\"48\" y2=\"120\" />\n",
       "  <line x1=\"52\" y1=\"0\" x2=\"52\" y2=\"120\" />\n",
       "  <line x1=\"56\" y1=\"0\" x2=\"56\" y2=\"120\" />\n",
       "  <line x1=\"60\" y1=\"0\" x2=\"60\" y2=\"120\" />\n",
       "  <line x1=\"64\" y1=\"0\" x2=\"64\" y2=\"120\" />\n",
       "  <line x1=\"68\" y1=\"0\" x2=\"68\" y2=\"120\" />\n",
       "  <line x1=\"72\" y1=\"0\" x2=\"72\" y2=\"120\" />\n",
       "  <line x1=\"80\" y1=\"0\" x2=\"80\" y2=\"120\" style=\"stroke-width:2\" />\n",
       "\n",
       "  <!-- Colored Rectangle -->\n",
       "  <polygon points=\"0.0,0.0 80.0,0.0 80.0,120.0 0.0,120.0\" style=\"fill:#8B4903A0;stroke-width:0\"/>\n",
       "\n",
       "  <!-- Text -->\n",
       "  <text x=\"40.000000\" y=\"140.000000\" font-size=\"1.0rem\" font-weight=\"100\" text-anchor=\"middle\" >20000</text>\n",
       "  <text x=\"100.000000\" y=\"60.000000\" font-size=\"1.0rem\" font-weight=\"100\" text-anchor=\"middle\" transform=\"rotate(-90,100.000000,60.000000)\">30000</text>\n",
       "</svg>\n",
       "</td>\n",
       "</tr>\n",
       "</table>"
      ],
      "text/plain": [
       "dask.array<array, shape=(30000, 20000), dtype=int64, chunksize=(1000, 1000), chunktype=numpy.ndarray>"
      ]
     },
     "execution_count": 32,
     "metadata": {},
     "output_type": "execute_result"
    }
   ],
   "source": [
    "import dask.array as da\n",
    "\n",
    "da4 = da.from_array(np_arr, chunks=(1000, 1000))\n",
    "da4"
   ]
  },
  {
   "cell_type": "code",
   "execution_count": 33,
   "id": "8627b8e6-d1d4-4112-904d-81e61e128116",
   "metadata": {},
   "outputs": [
    {
     "name": "stdout",
     "output_type": "stream",
     "text": [
      "CPU times: user 5.23 ms, sys: 870 µs, total: 6.1 ms\n",
      "Wall time: 5.84 ms\n"
     ]
    }
   ],
   "source": [
    "%%time\n",
    "da4_mean=da4.mean(axis=1)\n"
   ]
  },
  {
   "cell_type": "markdown",
   "id": "b54589c0-41ba-4640-9a17-8a004d91b7db",
   "metadata": {},
   "source": [
    "### 3. Use numpy method to calculate the size of da4 and the size of this chunk array (1000, 1000), then compare your calculations with the result about Bytes of Array and Chunk of da4.  "
   ]
  },
  {
   "cell_type": "markdown",
   "id": "50cddca6-9594-4db7-9861-4fdbafb82f41",
   "metadata": {},
   "source": [
    "Calculate the size of the Dask array and compare with the NumPy array To calculate the size of the Dask array and compare it with the NumPy array, we can use the following code:"
   ]
  },
  {
   "cell_type": "code",
   "execution_count": 34,
   "id": "f899447a-61e2-431a-8c56-172a9ee93c02",
   "metadata": {},
   "outputs": [
    {
     "name": "stdout",
     "output_type": "stream",
     "text": [
      "Size of single chunk: 8000000 bytes\n",
      "Size of Dask array: 4800000000 bytes\n",
      "Dasks reported size of da4: 4800000000 bytes\n",
      "Dasks reported size of a single chunk: 8000000 bytes\n"
     ]
    }
   ],
   "source": [
    "size_numpy = np_arr.nbytes\n",
    "size_dask = da4.nbytes\n",
    "chunk_size = da4.chunks[0][0] * da4.chunks[1][0] * da4.dtype.itemsize\n",
    "print(f\"Size of single chunk: {chunk_size} bytes\")\n",
    "print(f\"Size of Dask array: {size_dask} bytes\")\n",
    "\n",
    "print(f\"Dasks reported size of da4: {da4.nbytes} bytes\")\n",
    "print(f\"Dasks reported size of a single chunk: {da4.chunks[0][0] * da4.chunks[1][0] * da4.dtype.itemsize} bytes\")"
   ]
  },
  {
   "cell_type": "markdown",
   "id": "aaaab196-ee26-4c26-929b-708a27f35070",
   "metadata": {},
   "source": [
    "### 4. Set timers to calculate the Dask array with different \"chunks\"\n",
    "To calculate the Dask array with different \"chunks\" and measure the elapsed time, you can use the following code:"
   ]
  },
  {
   "cell_type": "code",
   "execution_count": 35,
   "id": "c56e665f-5e4c-4a62-b942-674a3f991bf4",
   "metadata": {},
   "outputs": [
    {
     "name": "stdout",
     "output_type": "stream",
     "text": [
      "Elapsed time (Dask, chunks=(1000, 1000)): 2.10 seconds\n",
      "Elapsed time (Dask, chunks=(3000, 2000)): 1.87 seconds\n",
      "Elapsed time (Dask, chunks=(300, 200)): 2.24 seconds\n"
     ]
    }
   ],
   "source": [
    "chunks_list = [(1000, 1000), (3000, 2000), (300, 200)]\n",
    "elapsed_time_dask_list = []\n",
    "\n",
    "for chunks in chunks_list:\n",
    "    da4 = da.from_array(np_arr, chunks=chunks)\n",
    "    start_time = time.time()\n",
    "    #da_mean = da4.mean(axis=1).compute()\n",
    "    da4.compute()\n",
    "    elapsed_time_dask = time.time() - start_time\n",
    "    elapsed_time_dask_list.append(elapsed_time_dask)\n",
    "    print(f\"Elapsed time (Dask, chunks={chunks}): {elapsed_time_dask:.2f} seconds\")"
   ]
  },
  {
   "cell_type": "markdown",
   "id": "7c468d96-8cbc-47f7-a858-d4db66fe69e1",
   "metadata": {},
   "source": [
    "### 5. Plot a bar graph of the time with different \"chunks\" and analyze the reason\n",
    "To plot a bar graph of the time with different \"chunks\" and analyze the reason, you can use the following code:"
   ]
  },
  {
   "cell_type": "code",
   "execution_count": 36,
   "id": "74058e18-fe4c-419e-82de-f98bc35005f6",
   "metadata": {},
   "outputs": [
    {
     "data": {
      "image/png": "[encoded data removed]",
      "text/plain": [
       "<Figure size 432x288 with 1 Axes>"
      ]
     },
     "metadata": {
      "needs_background": "light"
     },
     "output_type": "display_data"
    }
   ],
   "source": [
    "import matplotlib.pyplot as plt\n",
    "\n",
    "x_labels = [f'Chunk {chunks}' for chunks in chunks_list]\n",
    "elapsed_times = elapsed_time_dask_list\n",
    "\n",
    "plt.bar(x_labels, elapsed_times)\n",
    "plt.xlabel(\"Chunks\")\n",
    "plt.ylabel(\"Elapsed Time (seconds)\")\n",
    "plt.title(\"Elapsed Time with Different Chunks\")\n",
    "plt.savefig(\"Elapsed Time with Different Chunks.png\")\n",
    "plt.show()"
   ]
  },
  {
   "cell_type": "markdown",
   "id": "7a61c63d-872b-4749-b713-bb7fcab1648a",
   "metadata": {},
   "source": [
    "Using different chunk sizes in Dask is about finding the right balance between reducing computational overhead and managing memory usage effectively. This involves considering factors such as the size and nature of your data, the type of computations you are performing, and the characteristics of your storage format"
   ]
  },
  {
   "cell_type": "markdown",
   "id": "ad24d05b-9ed4-440c-b534-98bb413a07f6",
   "metadata": {},
   "source": [
    "- **(300, 200) Chunk Size:**\n",
    "\n",
    "This chunk size is the smallest among the tested sizes. Smaller chunks increase the overhead associated with parallelizing the computation and can result in longer execution times. While smaller chunks can be beneficial for some tasks, they may not be the most efficient choice for all operations.\n",
    "\n",
    "- **(1000, 1000) Chunk Size:**\n",
    "\n",
    "This chunk size is relatively larger, and Dask can efficiently process larger chunks, as they allow for better parallelism and reduced overhead when processing data. Therefore, the computation time is relatively faster compared to smaller chunks.\n",
    "\n",
    "\n",
    "- **(3000, 2000) Chunk Size:**\n",
    "\n",
    "This chunk size is smaller than the original chunk size but still relatively large. It offers some level of parallelism but doesn't have the same advantage as the original chunk size. However, it's still faster than the smallest chunk size.\n"
   ]
  },
  {
   "cell_type": "markdown",
   "id": "77ed5742-680a-4ce6-83e9-e8819192aec3",
   "metadata": {},
   "source": [
    "The time it takes to calculate the mean of every row in the dask array depends on the chunk size because of the way dask operates. Dask breaks up the array into chunks and performs operations on these chunks in parallel. If the chunks are too small, the overhead of managing the chunks can dominate the computation time. If the chunks are too large, they may not fit into memory, causing swapping and other memory management issues that can slow down the computation. Therefore, there is an optimal chunk size that minimizes the computation time, and this optimal size depends on the specific operation (in this case, calculating the mean), the size of the array, and the available memory"
   ]
  },
  {
   "cell_type": "markdown",
   "id": "69129ffc-66a8-4d9d-adc2-1ab4a5b56078",
   "metadata": {},
   "source": [
    "## Conclusion"
   ]
  },
  {
   "cell_type": "markdown",
   "id": "b1c06afb-b1ad-4bb0-8430-b6c45c5dc743",
   "metadata": {},
   "source": [
    "In conclusion, the multiprocessing.Pool module in Python provides a convenient way to parallelize the execution of a function across multiple input values, distributing the input data across processes (data parallelism). This can significantly speed up the execution time for large datasets, especially when you have a multi-core CPU.\n",
    "However, it's important to choose the right method (apply() or map()) and the right number of CPUs for your specific task. Too many processes can lead to excessive overhead, while too few processes might not fully utilize the CPU. "
   ]
  }
 ],
 "metadata": {
  "kernelspec": {
   "display_name": "Python 3",
   "language": "python",
   "name": "python3"
  },
  "language_info": {
   "codemirror_mode": {
    "name": "ipython",
    "version": 3
   },
   "file_extension": ".py",
   "mimetype": "text/x-python",
   "name": "python",
   "nbconvert_exporter": "python",
   "pygments_lexer": "ipython3",
   "version": "3.8.8"
  }
 },
 "nbformat": 4,
 "nbformat_minor": 5
}
